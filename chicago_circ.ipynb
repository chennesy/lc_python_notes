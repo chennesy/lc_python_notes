{
 "cells": [
  {
   "cell_type": "code",
   "execution_count": 1,
   "id": "440a758a-57dc-4c14-ab9e-6ad42c56c97c",
   "metadata": {},
   "outputs": [],
   "source": [
    "import pandas as pd\n",
    "import pickle\n"
   ]
  },
  {
   "cell_type": "markdown",
   "id": "d251e25e-6b4f-4f0d-997c-c4c9f8abc610",
   "metadata": {},
   "source": [
    "### Chicago Public Library - Libraries\n",
    "Combined 2012 to 2022 Circulation by Location\n",
    "\n",
    "From [Data.gov](https://catalog.data.gov/dataset/?q=chicago+%22circulation+by+location%22).\n",
    "\n",
    "- Could break up into multiple csvs to allow for [looping over data sets](https://librarycarpentry.org/lc-python-intro/13-looping-data-sets.html)\n"
   ]
  },
  {
   "cell_type": "code",
   "execution_count": 2,
   "id": "1c780dc1-d8dc-4d52-a975-4b0590559bd9",
   "metadata": {},
   "outputs": [],
   "source": [
    "df = pd.read_csv('chicago_circ_by_location.csv')"
   ]
  },
  {
   "cell_type": "code",
   "execution_count": 3,
   "id": "2c91ab17-534d-48a3-8d4e-6f5f79fb6e03",
   "metadata": {},
   "outputs": [],
   "source": [
    "df.columns = df.columns.str.lower() "
   ]
  },
  {
   "cell_type": "code",
   "execution_count": 4,
   "id": "3f28075a-464a-4746-b483-3f20cd7feebc",
   "metadata": {},
   "outputs": [
    {
     "data": {
      "text/plain": [
       "Index(['branch', 'address', 'city', 'zip code', 'january', 'february', 'march',\n",
       "       'april', 'may', 'june', 'july', 'august', 'september', 'october',\n",
       "       'november', 'december', 'ytd', 'year'],\n",
       "      dtype='object')"
      ]
     },
     "execution_count": 4,
     "metadata": {},
     "output_type": "execute_result"
    }
   ],
   "source": [
    "df.columns"
   ]
  },
  {
   "cell_type": "code",
   "execution_count": 5,
   "id": "4d81db27-1313-4ec8-8bca-a7b314bfd093",
   "metadata": {},
   "outputs": [
    {
     "data": {
      "text/plain": [
       "array(['Albany Park', 'Altgeld', 'Archer Heights', 'Austin',\n",
       "       'Austin-Irving', 'Avalon', 'Back of the Yards', 'Beverly',\n",
       "       'Bezazian', 'Blackstone', 'Brainerd', 'Brighton Park',\n",
       "       'Bucktown-Wicker Park', 'Budlong Woods', 'Canaryville',\n",
       "       'Chicago Bee', 'Chicago Lawn', 'Chinatown', 'Clearing', 'Coleman',\n",
       "       'Daley, Richard J. - Bridgeport', 'Daley, Richard M. - W Humboldt',\n",
       "       'Douglass', 'Dunning', 'Edgebrook', 'Edgewater', 'Gage Park',\n",
       "       'Galewood-Mont Clare', 'Garfield Ridge', 'Greater Grand Crossing',\n",
       "       'Hall', 'Harold Washington Library Center', 'Hegewisch',\n",
       "       'Humboldt Park', 'Independence', 'Jefferson Park', 'Jeffery Manor',\n",
       "       'Kelly', 'King', 'Legler Regional', 'Lincoln Belmont',\n",
       "       'Lincoln Park', 'Little Village', 'Logan Square', 'Lozano',\n",
       "       'Manning', 'Mayfair', 'McKinley Park', 'Merlo', 'Mount Greenwood',\n",
       "       'Near North', 'North Austin', 'North Pulaski', 'Northtown',\n",
       "       'Oriole Park', 'Portage-Cragin', 'Pullman', 'Roden', 'Rogers Park',\n",
       "       'Roosevelt', 'Scottsdale', 'Sherman Park', 'South Chicago',\n",
       "       'South Shore', 'Sulzer Regional', 'Thurgood Marshall', 'Toman',\n",
       "       'Uptown', 'Vodak-East Side', 'Walker', 'Water Works',\n",
       "       'West Belmont', 'West Chicago Avenue', 'West Englewood',\n",
       "       'West Lawn', 'West Pullman', 'West Town', 'Whitney M. Young, Jr.',\n",
       "       'Woodson Regional', 'Wrightwood-Ashburn', 'Renewals - Online',\n",
       "       'Talking Books and Braille', 'Downloadable Media',\n",
       "       'Renewals - Itivia', 'Little Italy', 'West Loop',\n",
       "       'Renewals - Auto', 'Renewals - Phone'], dtype=object)"
      ]
     },
     "execution_count": 5,
     "metadata": {},
     "output_type": "execute_result"
    }
   ],
   "source": [
    "df.branch.unique()"
   ]
  },
  {
   "cell_type": "code",
   "execution_count": 277,
   "id": "8ee48b7a-2e2f-4789-a917-d056afac8f2e",
   "metadata": {},
   "outputs": [
    {
     "data": {
      "text/plain": [
       "array([2011, 2012, 2013, 2014, 2015, 2016, 2017, 2018, 2019, 2020, 2021,\n",
       "       2022])"
      ]
     },
     "execution_count": 277,
     "metadata": {},
     "output_type": "execute_result"
    }
   ],
   "source": [
    "df.year.unique()"
   ]
  },
  {
   "cell_type": "code",
   "execution_count": 278,
   "id": "633cecfc-f172-498c-b18c-98d1262cf964",
   "metadata": {},
   "outputs": [],
   "source": [
    "years = df.year.unique().tolist()\n",
    "years.sort()"
   ]
  },
  {
   "cell_type": "code",
   "execution_count": 279,
   "id": "d52a4342-0e40-4481-9efb-80c408e346ab",
   "metadata": {},
   "outputs": [
    {
     "name": "stdout",
     "output_type": "stream",
     "text": [
      "january \n",
      "Max: 671609 Renewals - Auto \n",
      "Mean: 10662.7666999003 \n",
      "\n",
      "february \n",
      "Max: 646073 Renewals - Auto \n",
      "Mean: 9844.878364905284 \n",
      "\n",
      "march \n",
      "Max: 703214 Renewals - Auto \n",
      "Mean: 11135.676969092721 \n",
      "\n",
      "april \n",
      "Max: 897679 Renewals - Auto \n",
      "Mean: 10781.22033898305 \n",
      "\n",
      "may \n",
      "Max: 823205 Renewals - Auto \n",
      "Mean: 10359.097706879362 \n",
      "\n",
      "june \n",
      "Max: 747729 Renewals - Auto \n",
      "Mean: 10766.769690927218 \n",
      "\n",
      "july \n",
      "Max: 631669 Renewals - Auto \n",
      "Mean: 11350.51445663011 \n",
      "\n",
      "august \n",
      "Max: 611469 Renewals - Auto \n",
      "Mean: 11322.272183449651 \n",
      "\n",
      "september \n",
      "Max: 748206 Renewals - Auto \n",
      "Mean: 10929.097706879362 \n",
      "\n",
      "october \n",
      "Max: 602692 Renewals - Auto \n",
      "Mean: 11543.85443668993 \n",
      "\n",
      "november \n",
      "Max: 692813 Renewals - Auto \n",
      "Mean: 11093.359920239282 \n",
      "\n",
      "december \n",
      "Max: 687304 Renewals - Auto \n",
      "Mean: 10632.224327018943 \n",
      "\n"
     ]
    }
   ],
   "source": [
    "months = ['january', 'february', 'march',\n",
    "       'april', 'may', 'june', 'july', 'august', 'september', 'october',\n",
    "       'november', 'december']\n",
    "\n",
    "for month in months:\n",
    "    print(month, '\\nMax:', df[month].max(), df.loc[df[month].idxmax()]['branch'], '\\nMean:', df[month].mean(), '\\n') "
   ]
  },
  {
   "cell_type": "code",
   "execution_count": 281,
   "id": "920e2667-cd4b-4023-88d3-622f6b3e000f",
   "metadata": {},
   "outputs": [
    {
     "data": {
      "text/html": [
       "<div>\n",
       "<style scoped>\n",
       "    .dataframe tbody tr th:only-of-type {\n",
       "        vertical-align: middle;\n",
       "    }\n",
       "\n",
       "    .dataframe tbody tr th {\n",
       "        vertical-align: top;\n",
       "    }\n",
       "\n",
       "    .dataframe thead th {\n",
       "        text-align: right;\n",
       "    }\n",
       "</style>\n",
       "<table border=\"1\" class=\"dataframe\">\n",
       "  <thead>\n",
       "    <tr style=\"text-align: right;\">\n",
       "      <th></th>\n",
       "      <th></th>\n",
       "      <th>address</th>\n",
       "      <th>city</th>\n",
       "      <th>zip code</th>\n",
       "      <th>january</th>\n",
       "      <th>february</th>\n",
       "      <th>march</th>\n",
       "      <th>april</th>\n",
       "      <th>may</th>\n",
       "      <th>june</th>\n",
       "      <th>july</th>\n",
       "      <th>august</th>\n",
       "      <th>september</th>\n",
       "      <th>october</th>\n",
       "      <th>november</th>\n",
       "      <th>december</th>\n",
       "      <th>ytd</th>\n",
       "    </tr>\n",
       "    <tr>\n",
       "      <th>branch</th>\n",
       "      <th>year</th>\n",
       "      <th></th>\n",
       "      <th></th>\n",
       "      <th></th>\n",
       "      <th></th>\n",
       "      <th></th>\n",
       "      <th></th>\n",
       "      <th></th>\n",
       "      <th></th>\n",
       "      <th></th>\n",
       "      <th></th>\n",
       "      <th></th>\n",
       "      <th></th>\n",
       "      <th></th>\n",
       "      <th></th>\n",
       "      <th></th>\n",
       "      <th></th>\n",
       "    </tr>\n",
       "  </thead>\n",
       "  <tbody>\n",
       "    <tr>\n",
       "      <th>Albany Park</th>\n",
       "      <th>2011</th>\n",
       "      <td>5150 N. Kimball Ave.</td>\n",
       "      <td>Chicago</td>\n",
       "      <td>60625.0</td>\n",
       "      <td>8427</td>\n",
       "      <td>7023</td>\n",
       "      <td>9702</td>\n",
       "      <td>9344</td>\n",
       "      <td>8865</td>\n",
       "      <td>11650</td>\n",
       "      <td>11778</td>\n",
       "      <td>11306</td>\n",
       "      <td>10466</td>\n",
       "      <td>10997</td>\n",
       "      <td>10567</td>\n",
       "      <td>9934</td>\n",
       "      <td>120059</td>\n",
       "    </tr>\n",
       "    <tr>\n",
       "      <th>Altgeld</th>\n",
       "      <th>2011</th>\n",
       "      <td>13281 S. Corliss Ave.</td>\n",
       "      <td>Chicago</td>\n",
       "      <td>60827.0</td>\n",
       "      <td>1258</td>\n",
       "      <td>708</td>\n",
       "      <td>854</td>\n",
       "      <td>804</td>\n",
       "      <td>816</td>\n",
       "      <td>870</td>\n",
       "      <td>713</td>\n",
       "      <td>480</td>\n",
       "      <td>702</td>\n",
       "      <td>927</td>\n",
       "      <td>787</td>\n",
       "      <td>692</td>\n",
       "      <td>9611</td>\n",
       "    </tr>\n",
       "    <tr>\n",
       "      <th>Archer Heights</th>\n",
       "      <th>2011</th>\n",
       "      <td>5055 S. Archer Ave.</td>\n",
       "      <td>Chicago</td>\n",
       "      <td>60632.0</td>\n",
       "      <td>8104</td>\n",
       "      <td>6899</td>\n",
       "      <td>9329</td>\n",
       "      <td>9124</td>\n",
       "      <td>7472</td>\n",
       "      <td>8314</td>\n",
       "      <td>8116</td>\n",
       "      <td>9177</td>\n",
       "      <td>9033</td>\n",
       "      <td>9709</td>\n",
       "      <td>8809</td>\n",
       "      <td>7865</td>\n",
       "      <td>101951</td>\n",
       "    </tr>\n",
       "    <tr>\n",
       "      <th>Austin</th>\n",
       "      <th>2011</th>\n",
       "      <td>5615 W. Race Ave.</td>\n",
       "      <td>Chicago</td>\n",
       "      <td>60644.0</td>\n",
       "      <td>1755</td>\n",
       "      <td>1316</td>\n",
       "      <td>1942</td>\n",
       "      <td>2200</td>\n",
       "      <td>2133</td>\n",
       "      <td>2359</td>\n",
       "      <td>2080</td>\n",
       "      <td>2405</td>\n",
       "      <td>2417</td>\n",
       "      <td>2571</td>\n",
       "      <td>2233</td>\n",
       "      <td>2116</td>\n",
       "      <td>25527</td>\n",
       "    </tr>\n",
       "    <tr>\n",
       "      <th>Austin-Irving</th>\n",
       "      <th>2011</th>\n",
       "      <td>6100 W. Irving Park Rd.</td>\n",
       "      <td>Chicago</td>\n",
       "      <td>60634.0</td>\n",
       "      <td>12593</td>\n",
       "      <td>11791</td>\n",
       "      <td>14807</td>\n",
       "      <td>14382</td>\n",
       "      <td>11754</td>\n",
       "      <td>14402</td>\n",
       "      <td>14605</td>\n",
       "      <td>15164</td>\n",
       "      <td>14306</td>\n",
       "      <td>15357</td>\n",
       "      <td>14069</td>\n",
       "      <td>12404</td>\n",
       "      <td>165634</td>\n",
       "    </tr>\n",
       "  </tbody>\n",
       "</table>\n",
       "</div>"
      ],
      "text/plain": [
       "                                     address     city  zip code  january  \\\n",
       "branch         year                                                        \n",
       "Albany Park    2011     5150 N. Kimball Ave.  Chicago   60625.0     8427   \n",
       "Altgeld        2011    13281 S. Corliss Ave.  Chicago   60827.0     1258   \n",
       "Archer Heights 2011      5055 S. Archer Ave.  Chicago   60632.0     8104   \n",
       "Austin         2011        5615 W. Race Ave.  Chicago   60644.0     1755   \n",
       "Austin-Irving  2011  6100 W. Irving Park Rd.  Chicago   60634.0    12593   \n",
       "\n",
       "                     february  march  april    may   june   july  august  \\\n",
       "branch         year                                                        \n",
       "Albany Park    2011      7023   9702   9344   8865  11650  11778   11306   \n",
       "Altgeld        2011       708    854    804    816    870    713     480   \n",
       "Archer Heights 2011      6899   9329   9124   7472   8314   8116    9177   \n",
       "Austin         2011      1316   1942   2200   2133   2359   2080    2405   \n",
       "Austin-Irving  2011     11791  14807  14382  11754  14402  14605   15164   \n",
       "\n",
       "                     september  october  november  december     ytd  \n",
       "branch         year                                                  \n",
       "Albany Park    2011      10466    10997     10567      9934  120059  \n",
       "Altgeld        2011        702      927       787       692    9611  \n",
       "Archer Heights 2011       9033     9709      8809      7865  101951  \n",
       "Austin         2011       2417     2571      2233      2116   25527  \n",
       "Austin-Irving  2011      14306    15357     14069     12404  165634  "
      ]
     },
     "execution_count": 281,
     "metadata": {},
     "output_type": "execute_result"
    }
   ],
   "source": [
    "df.set_index(['branch','year'], inplace = True)\n",
    "df.head(5)"
   ]
  },
  {
   "cell_type": "code",
   "execution_count": 282,
   "id": "0e3da01c-34db-4da2-a075-71ef4efd51ec",
   "metadata": {},
   "outputs": [
    {
     "data": {
      "text/plain": [
       "<Axes: xlabel='year'>"
      ]
     },
     "execution_count": 282,
     "metadata": {},
     "output_type": "execute_result"
    },
    {
     "data": {
      "image/png": "[encoded data removed]",
      "text/plain": [
       "<Figure size 640x480 with 1 Axes>"
      ]
     },
     "metadata": {},
     "output_type": "display_data"
    }
   ],
   "source": [
    "df.loc['Chinatown', :]['ytd'].plot(kind='line')"
   ]
  },
  {
   "cell_type": "code",
   "execution_count": 283,
   "id": "f46fe83b-ca2e-4c66-afe6-c0a97f92a061",
   "metadata": {},
   "outputs": [
    {
     "data": {
      "text/plain": [
       "<Axes: xlabel='year'>"
      ]
     },
     "execution_count": 283,
     "metadata": {},
     "output_type": "execute_result"
    },
    {
     "data": {
      "image/png": "[encoded data removed]",
      "text/plain": [
       "<Figure size 640x480 with 1 Axes>"
      ]
     },
     "metadata": {},
     "output_type": "display_data"
    }
   ],
   "source": [
    "df.loc['Downloadable Media', :]['ytd'].plot()"
   ]
  },
  {
   "cell_type": "code",
   "execution_count": 264,
   "id": "ced1d4b0-471a-4bfb-9500-8a00bc62e9a3",
   "metadata": {},
   "outputs": [
    {
     "name": "stdout",
     "output_type": "stream",
     "text": [
      "13841 - january 2011\n",
      "11974 - february 2011\n",
      "14228 - march 2011\n",
      "14158 - april 2011\n",
      "15176 - may 2011\n",
      "15154 - june 2011\n",
      "15687 - july 2011\n",
      "16896 - august 2011\n",
      "17866 - september 2011\n",
      "19689 - october 2011\n",
      "20171 - november 2011\n",
      "23337 - december 2011\n",
      "24925 - january 2012\n",
      "23125 - february 2012\n",
      "25118 - march 2012\n",
      "24855 - april 2012\n",
      "26283 - may 2012\n",
      "26616 - june 2012\n",
      "29183 - july 2012\n",
      "30709 - august 2012\n",
      "28286 - september 2012\n",
      "29385 - october 2012\n",
      "29707 - november 2012\n",
      "31863 - december 2012\n",
      "37183 - january 2013\n",
      "33467 - february 2013\n",
      "37772 - march 2013\n",
      "35651 - april 2013\n",
      "36746 - may 2013\n",
      "37706 - june 2013\n",
      "41277 - july 2013\n",
      "41874 - august 2013\n",
      "39702 - september 2013\n",
      "40947 - october 2013\n",
      "39736 - november 2013\n",
      "42608 - december 2013\n",
      "47023 - january 2014\n",
      "41299 - february 2014\n",
      "46942 - march 2014\n",
      "54642 - april 2014\n",
      "55598 - may 2014\n",
      "57774 - june 2014\n",
      "61783 - july 2014\n",
      "63758 - august 2014\n",
      "61432 - september 2014\n",
      "62406 - october 2014\n",
      "66028 - november 2014\n",
      "71276 - december 2014\n",
      "75946 - january 2015\n",
      "67991 - february 2015\n",
      "75616 - march 2015\n",
      "73306 - april 2015\n",
      "74074 - may 2015\n",
      "72562 - june 2015\n",
      "78585 - july 2015\n",
      "81574 - august 2015\n",
      "76407 - september 2015\n",
      "75777 - october 2015\n",
      "77936 - november 2015\n",
      "83431 - december 2015\n",
      "87818 - january 2016\n",
      "82825 - february 2016\n",
      "91064 - march 2016\n",
      "89191 - april 2016\n",
      "89285 - may 2016\n",
      "88768 - june 2016\n",
      "93081 - july 2016\n",
      "96984 - august 2016\n",
      "93147 - september 2016\n",
      "95897 - october 2016\n",
      "94443 - november 2016\n",
      "99932 - december 2016\n",
      "106167 - january 2017\n",
      "97034 - february 2017\n",
      "108892 - march 2017\n",
      "101735 - april 2017\n",
      "105208 - may 2017\n",
      "105040 - june 2017\n",
      "110680 - july 2017\n",
      "114124 - august 2017\n",
      "105630 - september 2017\n",
      "109799 - october 2017\n",
      "106871 - november 2017\n",
      "108321 - december 2017\n",
      "119701 - january 2018\n",
      "107657 - february 2018\n",
      "120847 - march 2018\n",
      "116826 - april 2018\n",
      "117207 - may 2018\n",
      "119616 - june 2018\n",
      "129076 - july 2018\n",
      "133423 - august 2018\n",
      "124160 - september 2018\n",
      "132685 - october 2018\n",
      "137284 - november 2018\n",
      "141495 - december 2018\n",
      "152141 - january 2019\n",
      "136133 - february 2019\n",
      "152785 - march 2019\n",
      "145498 - april 2019\n",
      "150737 - may 2019\n",
      "148996 - june 2019\n",
      "157917 - july 2019\n",
      "163365 - august 2019\n",
      "155047 - september 2019\n",
      "160544 - october 2019\n",
      "157606 - november 2019\n",
      "160404 - december 2019\n",
      "168217 - january 2020\n",
      "166250 - february 2020\n",
      "184250 - march 2020\n",
      "213490 - april 2020\n",
      "224999 - may 2020\n",
      "215588 - june 2020\n",
      "211493 - july 2020\n",
      "209803 - august 2020\n",
      "202049 - september 2020\n",
      "204731 - october 2020\n",
      "202385 - november 2020\n",
      "207352 - december 2020\n",
      "217891 - january 2021\n",
      "202027 - february 2021\n",
      "202055 - march 2021\n",
      "191216 - april 2021\n",
      "195811 - may 2021\n",
      "189325 - june 2021\n",
      "193068 - july 2021\n",
      "198273 - august 2021\n",
      "180638 - september 2021\n",
      "181426 - october 2021\n",
      "177454 - november 2021\n",
      "187409 - december 2021\n",
      "210184 - january 2022\n",
      "192686 - february 2022\n",
      "209752 - march 2022\n",
      "207739 - april 2022\n",
      "219205 - may 2022\n",
      "213283 - june 2022\n",
      "232207 - july 2022\n",
      "242096 - august 2022\n",
      "226457 - september 2022\n",
      "232472 - october 2022\n",
      "233684 - november 2022\n",
      "243533 - december 2022\n"
     ]
    }
   ],
   "source": [
    "for year in years:\n",
    "    for month in months:\n",
    "        print(df.loc['Downloadable Media', year][month], '- ' + str(month) , str(year))"
   ]
  },
  {
   "cell_type": "code",
   "execution_count": null,
   "id": "1b66a846-fb72-4046-9df1-06f321104ea9",
   "metadata": {},
   "outputs": [],
   "source": []
  }
 ],
 "metadata": {
  "kernelspec": {
   "display_name": "Python 3 (ipykernel)",
   "language": "python",
   "name": "python3"
  },
  "language_info": {
   "codemirror_mode": {
    "name": "ipython",
    "version": 3
   },
   "file_extension": ".py",
   "mimetype": "text/x-python",
   "name": "python",
   "nbconvert_exporter": "python",
   "pygments_lexer": "ipython3",
   "version": "3.9.17"
  }
 },
 "nbformat": 4,
 "nbformat_minor": 5
}
